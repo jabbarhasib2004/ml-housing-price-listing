






import pandas as pd
import matplotlib.pyplot as plt
import seaborn as sns
from sklearn.model_selection import train_test_split
from sklearn.linear_model import LinearRegression
from sklearn.metrics import mean_squared_error

df = pd.read_csv("housing.csv")  # Make sure housing.csv is in your current folde
print(" First 5 Rows:")
print(df.head())

print("\n Dataset Info:")
print(df.info())

print("\n Statistical Summary:")
print(df.describe())

print("\n Missing Values:")
print(df.isnull().sum())

df_clean = df.dropna()

if 'ocean_proximity' in df_clean.columns:
    df_clean = pd.get_dummies(df_clean, columns=['ocean_proximity'], drop_first=True)

plt.figure(figsize=(10, 6))
sns.histplot(df_clean['median_house_value'], bins=30, kde=True)
plt.title('Distribution of Median House Value')
plt.show()

plt.figure(figsize=(12, 8))
sns.heatmap(df_clean.corr(), annot=True, fmt=".2f", cmap="coolwarm")
plt.title('Correlation Matrix')
plt.show()

X = df_clean.drop("median_house_value", axis=1)
y = df_clean["median_house_value"]

X_train, X_test, y_train, y_test = train_test_split(X, y, test_size=0.2, random_state=42)

model = LinearRegression()
model.fit(X_train, y_train)

predictions = model.predict(X_test)
mse = mean_squared_error(y_test, predictions)
print(f" Mean Squared Error (MSE): {mse:.2f}")



